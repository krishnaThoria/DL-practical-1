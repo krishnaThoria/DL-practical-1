{
 "cells": [
  {
   "cell_type": "markdown",
   "id": "e1e289ce",
   "metadata": {},
   "source": [
    "# Name: Krishna thoria\n",
    "# Course : DS\n",
    "# Subject: DL unit 1"
   ]
  },
  {
   "cell_type": "code",
   "execution_count": 1,
   "id": "decent-salvation",
   "metadata": {},
   "outputs": [],
   "source": [
    "import pandas as pd\n",
    "import numpy as np\n",
    "from sklearn.model_selection import train_test_split\n",
    "from sklearn.preprocessing import LabelEncoder, StandardScaler, OneHotEncoder\n",
    "from tensorflow.keras.models import Sequential\n",
    "from tensorflow.keras.layers import Dense"
   ]
  },
  {
   "cell_type": "code",
   "execution_count": 3,
   "id": "67880a99",
   "metadata": {},
   "outputs": [
    {
     "data": {
      "text/html": [
       "<div>\n",
       "<style scoped>\n",
       "    .dataframe tbody tr th:only-of-type {\n",
       "        vertical-align: middle;\n",
       "    }\n",
       "\n",
       "    .dataframe tbody tr th {\n",
       "        vertical-align: top;\n",
       "    }\n",
       "\n",
       "    .dataframe thead th {\n",
       "        text-align: right;\n",
       "    }\n",
       "</style>\n",
       "<table border=\"1\" class=\"dataframe\">\n",
       "  <thead>\n",
       "    <tr style=\"text-align: right;\">\n",
       "      <th></th>\n",
       "      <th>Unnamed: 0</th>\n",
       "      <th>Name</th>\n",
       "      <th>Location</th>\n",
       "      <th>Year</th>\n",
       "      <th>Kilometers_Driven</th>\n",
       "      <th>Fuel_Type</th>\n",
       "      <th>Transmission</th>\n",
       "      <th>Owner_Type</th>\n",
       "      <th>Mileage</th>\n",
       "      <th>Engine</th>\n",
       "      <th>Power</th>\n",
       "      <th>Seats</th>\n",
       "      <th>New_Price</th>\n",
       "      <th>Price</th>\n",
       "    </tr>\n",
       "  </thead>\n",
       "  <tbody>\n",
       "    <tr>\n",
       "      <th>0</th>\n",
       "      <td>0</td>\n",
       "      <td>Maruti Wagon R LXI CNG</td>\n",
       "      <td>Mumbai</td>\n",
       "      <td>2010</td>\n",
       "      <td>72000</td>\n",
       "      <td>CNG</td>\n",
       "      <td>Manual</td>\n",
       "      <td>First</td>\n",
       "      <td>26.6 km/kg</td>\n",
       "      <td>998 CC</td>\n",
       "      <td>58.16 bhp</td>\n",
       "      <td>5.0</td>\n",
       "      <td>NaN</td>\n",
       "      <td>1.75</td>\n",
       "    </tr>\n",
       "    <tr>\n",
       "      <th>1</th>\n",
       "      <td>1</td>\n",
       "      <td>Hyundai Creta 1.6 CRDi SX Option</td>\n",
       "      <td>Pune</td>\n",
       "      <td>2015</td>\n",
       "      <td>41000</td>\n",
       "      <td>Diesel</td>\n",
       "      <td>Manual</td>\n",
       "      <td>First</td>\n",
       "      <td>19.67 kmpl</td>\n",
       "      <td>1582 CC</td>\n",
       "      <td>126.2 bhp</td>\n",
       "      <td>5.0</td>\n",
       "      <td>NaN</td>\n",
       "      <td>12.50</td>\n",
       "    </tr>\n",
       "    <tr>\n",
       "      <th>2</th>\n",
       "      <td>2</td>\n",
       "      <td>Honda Jazz V</td>\n",
       "      <td>Chennai</td>\n",
       "      <td>2011</td>\n",
       "      <td>46000</td>\n",
       "      <td>Petrol</td>\n",
       "      <td>Manual</td>\n",
       "      <td>First</td>\n",
       "      <td>18.2 kmpl</td>\n",
       "      <td>1199 CC</td>\n",
       "      <td>88.7 bhp</td>\n",
       "      <td>5.0</td>\n",
       "      <td>8.61 Lakh</td>\n",
       "      <td>4.50</td>\n",
       "    </tr>\n",
       "    <tr>\n",
       "      <th>3</th>\n",
       "      <td>3</td>\n",
       "      <td>Maruti Ertiga VDI</td>\n",
       "      <td>Chennai</td>\n",
       "      <td>2012</td>\n",
       "      <td>87000</td>\n",
       "      <td>Diesel</td>\n",
       "      <td>Manual</td>\n",
       "      <td>First</td>\n",
       "      <td>20.77 kmpl</td>\n",
       "      <td>1248 CC</td>\n",
       "      <td>88.76 bhp</td>\n",
       "      <td>7.0</td>\n",
       "      <td>NaN</td>\n",
       "      <td>6.00</td>\n",
       "    </tr>\n",
       "    <tr>\n",
       "      <th>4</th>\n",
       "      <td>4</td>\n",
       "      <td>Audi A4 New 2.0 TDI Multitronic</td>\n",
       "      <td>Coimbatore</td>\n",
       "      <td>2013</td>\n",
       "      <td>40670</td>\n",
       "      <td>Diesel</td>\n",
       "      <td>Automatic</td>\n",
       "      <td>Second</td>\n",
       "      <td>15.2 kmpl</td>\n",
       "      <td>1968 CC</td>\n",
       "      <td>140.8 bhp</td>\n",
       "      <td>5.0</td>\n",
       "      <td>NaN</td>\n",
       "      <td>17.74</td>\n",
       "    </tr>\n",
       "  </tbody>\n",
       "</table>\n",
       "</div>"
      ],
      "text/plain": [
       "   Unnamed: 0                              Name    Location  Year  \\\n",
       "0           0            Maruti Wagon R LXI CNG      Mumbai  2010   \n",
       "1           1  Hyundai Creta 1.6 CRDi SX Option        Pune  2015   \n",
       "2           2                      Honda Jazz V     Chennai  2011   \n",
       "3           3                 Maruti Ertiga VDI     Chennai  2012   \n",
       "4           4   Audi A4 New 2.0 TDI Multitronic  Coimbatore  2013   \n",
       "\n",
       "   Kilometers_Driven Fuel_Type Transmission Owner_Type     Mileage   Engine  \\\n",
       "0              72000       CNG       Manual      First  26.6 km/kg   998 CC   \n",
       "1              41000    Diesel       Manual      First  19.67 kmpl  1582 CC   \n",
       "2              46000    Petrol       Manual      First   18.2 kmpl  1199 CC   \n",
       "3              87000    Diesel       Manual      First  20.77 kmpl  1248 CC   \n",
       "4              40670    Diesel    Automatic     Second   15.2 kmpl  1968 CC   \n",
       "\n",
       "       Power  Seats  New_Price  Price  \n",
       "0  58.16 bhp    5.0        NaN   1.75  \n",
       "1  126.2 bhp    5.0        NaN  12.50  \n",
       "2   88.7 bhp    5.0  8.61 Lakh   4.50  \n",
       "3  88.76 bhp    7.0        NaN   6.00  \n",
       "4  140.8 bhp    5.0        NaN  17.74  "
      ]
     },
     "execution_count": 3,
     "metadata": {},
     "output_type": "execute_result"
    }
   ],
   "source": [
    "# Load the train-data CSV file\n",
    "train_data = pd.read_csv('train-data.csv')\n",
    "train_data.head()"
   ]
  },
  {
   "cell_type": "code",
   "execution_count": 4,
   "id": "30c5385e",
   "metadata": {},
   "outputs": [
    {
     "data": {
      "text/html": [
       "<div>\n",
       "<style scoped>\n",
       "    .dataframe tbody tr th:only-of-type {\n",
       "        vertical-align: middle;\n",
       "    }\n",
       "\n",
       "    .dataframe tbody tr th {\n",
       "        vertical-align: top;\n",
       "    }\n",
       "\n",
       "    .dataframe thead th {\n",
       "        text-align: right;\n",
       "    }\n",
       "</style>\n",
       "<table border=\"1\" class=\"dataframe\">\n",
       "  <thead>\n",
       "    <tr style=\"text-align: right;\">\n",
       "      <th></th>\n",
       "      <th>Unnamed: 0</th>\n",
       "      <th>Name</th>\n",
       "      <th>Location</th>\n",
       "      <th>Year</th>\n",
       "      <th>Kilometers_Driven</th>\n",
       "      <th>Fuel_Type</th>\n",
       "      <th>Transmission</th>\n",
       "      <th>Owner_Type</th>\n",
       "      <th>Mileage</th>\n",
       "      <th>Engine</th>\n",
       "      <th>Power</th>\n",
       "      <th>Seats</th>\n",
       "      <th>New_Price</th>\n",
       "    </tr>\n",
       "  </thead>\n",
       "  <tbody>\n",
       "    <tr>\n",
       "      <th>0</th>\n",
       "      <td>0</td>\n",
       "      <td>Maruti Alto K10 LXI CNG</td>\n",
       "      <td>Delhi</td>\n",
       "      <td>2014</td>\n",
       "      <td>40929</td>\n",
       "      <td>CNG</td>\n",
       "      <td>Manual</td>\n",
       "      <td>First</td>\n",
       "      <td>32.26 km/kg</td>\n",
       "      <td>998 CC</td>\n",
       "      <td>58.2 bhp</td>\n",
       "      <td>4.0</td>\n",
       "      <td>NaN</td>\n",
       "    </tr>\n",
       "    <tr>\n",
       "      <th>1</th>\n",
       "      <td>1</td>\n",
       "      <td>Maruti Alto 800 2016-2019 LXI</td>\n",
       "      <td>Coimbatore</td>\n",
       "      <td>2013</td>\n",
       "      <td>54493</td>\n",
       "      <td>Petrol</td>\n",
       "      <td>Manual</td>\n",
       "      <td>Second</td>\n",
       "      <td>24.7 kmpl</td>\n",
       "      <td>796 CC</td>\n",
       "      <td>47.3 bhp</td>\n",
       "      <td>5.0</td>\n",
       "      <td>NaN</td>\n",
       "    </tr>\n",
       "    <tr>\n",
       "      <th>2</th>\n",
       "      <td>2</td>\n",
       "      <td>Toyota Innova Crysta Touring Sport 2.4 MT</td>\n",
       "      <td>Mumbai</td>\n",
       "      <td>2017</td>\n",
       "      <td>34000</td>\n",
       "      <td>Diesel</td>\n",
       "      <td>Manual</td>\n",
       "      <td>First</td>\n",
       "      <td>13.68 kmpl</td>\n",
       "      <td>2393 CC</td>\n",
       "      <td>147.8 bhp</td>\n",
       "      <td>7.0</td>\n",
       "      <td>25.27 Lakh</td>\n",
       "    </tr>\n",
       "    <tr>\n",
       "      <th>3</th>\n",
       "      <td>3</td>\n",
       "      <td>Toyota Etios Liva GD</td>\n",
       "      <td>Hyderabad</td>\n",
       "      <td>2012</td>\n",
       "      <td>139000</td>\n",
       "      <td>Diesel</td>\n",
       "      <td>Manual</td>\n",
       "      <td>First</td>\n",
       "      <td>23.59 kmpl</td>\n",
       "      <td>1364 CC</td>\n",
       "      <td>null bhp</td>\n",
       "      <td>5.0</td>\n",
       "      <td>NaN</td>\n",
       "    </tr>\n",
       "    <tr>\n",
       "      <th>4</th>\n",
       "      <td>4</td>\n",
       "      <td>Hyundai i20 Magna</td>\n",
       "      <td>Mumbai</td>\n",
       "      <td>2014</td>\n",
       "      <td>29000</td>\n",
       "      <td>Petrol</td>\n",
       "      <td>Manual</td>\n",
       "      <td>First</td>\n",
       "      <td>18.5 kmpl</td>\n",
       "      <td>1197 CC</td>\n",
       "      <td>82.85 bhp</td>\n",
       "      <td>5.0</td>\n",
       "      <td>NaN</td>\n",
       "    </tr>\n",
       "  </tbody>\n",
       "</table>\n",
       "</div>"
      ],
      "text/plain": [
       "   Unnamed: 0                                       Name    Location  Year  \\\n",
       "0           0                    Maruti Alto K10 LXI CNG       Delhi  2014   \n",
       "1           1              Maruti Alto 800 2016-2019 LXI  Coimbatore  2013   \n",
       "2           2  Toyota Innova Crysta Touring Sport 2.4 MT      Mumbai  2017   \n",
       "3           3                       Toyota Etios Liva GD   Hyderabad  2012   \n",
       "4           4                          Hyundai i20 Magna      Mumbai  2014   \n",
       "\n",
       "   Kilometers_Driven Fuel_Type Transmission Owner_Type      Mileage   Engine  \\\n",
       "0              40929       CNG       Manual      First  32.26 km/kg   998 CC   \n",
       "1              54493    Petrol       Manual     Second    24.7 kmpl   796 CC   \n",
       "2              34000    Diesel       Manual      First   13.68 kmpl  2393 CC   \n",
       "3             139000    Diesel       Manual      First   23.59 kmpl  1364 CC   \n",
       "4              29000    Petrol       Manual      First    18.5 kmpl  1197 CC   \n",
       "\n",
       "       Power  Seats   New_Price  \n",
       "0   58.2 bhp    4.0         NaN  \n",
       "1   47.3 bhp    5.0         NaN  \n",
       "2  147.8 bhp    7.0  25.27 Lakh  \n",
       "3   null bhp    5.0         NaN  \n",
       "4  82.85 bhp    5.0         NaN  "
      ]
     },
     "execution_count": 4,
     "metadata": {},
     "output_type": "execute_result"
    }
   ],
   "source": [
    "# Load the test-data CSV file\n",
    "test_data = pd.read_csv('test-data.csv')\n",
    "test_data.head()"
   ]
  },
  {
   "cell_type": "code",
   "execution_count": 5,
   "id": "2dc202c2",
   "metadata": {},
   "outputs": [],
   "source": [
    "# Remove unnecessary columns (such as 'Unnamed: 0' and 'New_Price')\n",
    "train_data = train_data.drop(['Unnamed: 0', 'New_Price'], axis=1)\n",
    "test_data = test_data.drop(['Unnamed: 0', 'New_Price'], axis=1)"
   ]
  },
  {
   "cell_type": "code",
   "execution_count": 6,
   "id": "1bbb102a",
   "metadata": {},
   "outputs": [],
   "source": [
    "# Add a flag column to differentiate train and test datasets\n",
    "train_data['Flag'] = 1\n",
    "test_data['Flag'] = 0"
   ]
  },
  {
   "cell_type": "code",
   "execution_count": 7,
   "id": "82fc582c",
   "metadata": {},
   "outputs": [],
   "source": [
    "# Combine train and test data for preprocessing\n",
    "combined_data = pd.concat([train_data, test_data])\n"
   ]
  },
  {
   "cell_type": "code",
   "execution_count": 8,
   "id": "484a9d2d",
   "metadata": {},
   "outputs": [],
   "source": [
    "# Preprocess the data\n",
    "combined_data['Mileage'] = combined_data['Mileage'].str.extract('(\\d+\\.\\d+|\\d+)').astype(float)\n",
    "combined_data['Engine'] = combined_data['Engine'].str.extract('(\\d+)').astype(float).fillna(0).astype(int)\n",
    "combined_data['Power'] = combined_data['Power'].str.extract('(\\d+\\.\\d+|\\d+)').astype(float)\n"
   ]
  },
  {
   "cell_type": "code",
   "execution_count": 9,
   "id": "201bff27",
   "metadata": {},
   "outputs": [],
   "source": [
    "# Convert categorical columns to numerical using LabelEncoder\n",
    "label_encoder = LabelEncoder()\n",
    "categorical_cols = ['Name', 'Location', 'Fuel_Type', 'Transmission', 'Owner_Type']\n",
    "for col in categorical_cols:\n",
    "    combined_data[col] = label_encoder.fit_transform(combined_data[col])\n"
   ]
  },
  {
   "cell_type": "code",
   "execution_count": 10,
   "id": "58353090",
   "metadata": {},
   "outputs": [
    {
     "name": "stderr",
     "output_type": "stream",
     "text": [
      "C:\\ProgramData\\anaconda3\\lib\\site-packages\\sklearn\\preprocessing\\_encoders.py:828: FutureWarning: `sparse` was renamed to `sparse_output` in version 1.2 and will be removed in 1.4. `sparse_output` is ignored unless you leave `sparse` to its default value.\n",
      "  warnings.warn(\n"
     ]
    }
   ],
   "source": [
    "# Perform one-hot encoding on the combined dataset\n",
    "onehot_encoder = OneHotEncoder(sparse=False)\n",
    "encoded_data = onehot_encoder.fit_transform(combined_data)"
   ]
  },
  {
   "cell_type": "code",
   "execution_count": 11,
   "id": "695971fd",
   "metadata": {},
   "outputs": [],
   "source": [
    "# Split the combined data back into train and test datasets\n",
    "X_train = encoded_data[combined_data['Flag'] == 1, :-1]\n",
    "y_train = encoded_data[combined_data['Flag'] == 1, -1]\n",
    "X_test = encoded_data[combined_data['Flag'] == 0, :-1]"
   ]
  },
  {
   "cell_type": "code",
   "execution_count": 12,
   "id": "244a088b",
   "metadata": {},
   "outputs": [],
   "source": [
    "# Fill missing values with 0\n",
    "X_train = np.nan_to_num(X_train)\n",
    "y_train = np.nan_to_num(y_train)\n",
    "X_test = np.nan_to_num(X_test)"
   ]
  },
  {
   "cell_type": "code",
   "execution_count": 13,
   "id": "53267298",
   "metadata": {},
   "outputs": [],
   "source": [
    "# Scale the features\n",
    "scaler = StandardScaler()\n",
    "X_train_scaled = scaler.fit_transform(X_train)\n",
    "X_test_scaled = scaler.transform(X_test)"
   ]
  },
  {
   "cell_type": "code",
   "execution_count": 14,
   "id": "ba07ff7b",
   "metadata": {},
   "outputs": [],
   "source": [
    "# Build the ANN model with ReLU activation\n",
    "model = Sequential()\n",
    "model.add(Dense(128, activation='relu', input_dim=X_train_scaled.shape[1]))\n",
    "model.add(Dense(64, activation='relu'))\n",
    "model.add(Dense(1, activation='relu'))\n"
   ]
  },
  {
   "cell_type": "code",
   "execution_count": 15,
   "id": "c6960eb2",
   "metadata": {},
   "outputs": [],
   "source": [
    "# Compile the model\n",
    "model.compile(optimizer='adam', loss='mean_squared_error')"
   ]
  },
  {
   "cell_type": "code",
   "execution_count": 16,
   "id": "9acf720a",
   "metadata": {},
   "outputs": [
    {
     "name": "stdout",
     "output_type": "stream",
     "text": [
      "Epoch 1/10\n",
      "189/189 [==============================] - 3s 12ms/step - loss: 0.2515\n",
      "Epoch 2/10\n",
      "189/189 [==============================] - 2s 12ms/step - loss: 0.2165\n",
      "Epoch 3/10\n",
      "189/189 [==============================] - 2s 12ms/step - loss: 0.1053\n",
      "Epoch 4/10\n",
      "189/189 [==============================] - 2s 12ms/step - loss: 0.0375\n",
      "Epoch 5/10\n",
      "189/189 [==============================] - 2s 12ms/step - loss: 0.0138\n",
      "Epoch 6/10\n",
      "189/189 [==============================] - 2s 13ms/step - loss: 0.0050\n",
      "Epoch 7/10\n",
      "189/189 [==============================] - 2s 13ms/step - loss: 0.0030\n",
      "Epoch 8/10\n",
      "189/189 [==============================] - 2s 13ms/step - loss: 0.0022\n",
      "Epoch 9/10\n",
      "189/189 [==============================] - 2s 13ms/step - loss: 0.0017\n",
      "Epoch 10/10\n",
      "189/189 [==============================] - 2s 13ms/step - loss: 0.0014\n"
     ]
    },
    {
     "data": {
      "text/plain": [
       "<keras.src.callbacks.History at 0x252d7a4b010>"
      ]
     },
     "execution_count": 16,
     "metadata": {},
     "output_type": "execute_result"
    }
   ],
   "source": [
    "# Train the model\n",
    "model.fit(X_train_scaled, y_train, epochs=10, batch_size=32)\n"
   ]
  },
  {
   "cell_type": "code",
   "execution_count": 17,
   "id": "d6b8b83a",
   "metadata": {},
   "outputs": [
    {
     "name": "stdout",
     "output_type": "stream",
     "text": [
      "39/39 [==============================] - 0s 2ms/step\n"
     ]
    }
   ],
   "source": [
    "# Predict on the test data\n",
    "predictions = model.predict(X_test_scaled)"
   ]
  },
  {
   "cell_type": "code",
   "execution_count": 18,
   "id": "6faac290",
   "metadata": {},
   "outputs": [
    {
     "name": "stdout",
     "output_type": "stream",
     "text": [
      "[[0.6448611 ]\n",
      " [1.0302924 ]\n",
      " [1.0674688 ]\n",
      " ...\n",
      " [1.003208  ]\n",
      " [1.0444163 ]\n",
      " [0.98059773]]\n"
     ]
    }
   ],
   "source": [
    "# Print the predicted prices\n",
    "print(predictions)"
   ]
  },
  {
   "cell_type": "code",
   "execution_count": null,
   "id": "42806631",
   "metadata": {},
   "outputs": [],
   "source": []
  }
 ],
 "metadata": {
  "kernelspec": {
   "display_name": "Python 3 (ipykernel)",
   "language": "python",
   "name": "python3"
  },
  "language_info": {
   "codemirror_mode": {
    "name": "ipython",
    "version": 3
   },
   "file_extension": ".py",
   "mimetype": "text/x-python",
   "name": "python",
   "nbconvert_exporter": "python",
   "pygments_lexer": "ipython3",
   "version": "3.10.9"
  }
 },
 "nbformat": 4,
 "nbformat_minor": 5
}
